{
 "cells": [
  {
   "cell_type": "code",
   "execution_count": 1,
   "metadata": {
    "collapsed": true
   },
   "outputs": [],
   "source": [
    "from apyori import apriori\n",
    "\n",
    "transactions = [\n",
    "    ['面包', '牛奶'],\n",
    "    ['面包', '尿布','啤酒','鸡蛋'],\n",
    "    ['牛奶','尿布','啤酒','可乐'],\n",
    "    ['面包','牛奶','尿布','啤酒'],\n",
    "    ['面包','牛奶','尿布','可乐'],\n",
    "]\n",
    "results = list(apriori(transactions,min_support=0.5,min_confidence=0.5,min_lift=1))"
   ]
  },
  {
   "cell_type": "code",
   "execution_count": 2,
   "metadata": {},
   "outputs": [
    {
     "data": {
      "text/plain": [
       "[RelationRecord(items=frozenset({'啤酒'}), support=0.6, ordered_statistics=[OrderedStatistic(items_base=frozenset(), items_add=frozenset({'啤酒'}), confidence=0.6, lift=1.0)]),\n",
       " RelationRecord(items=frozenset({'尿布'}), support=0.8, ordered_statistics=[OrderedStatistic(items_base=frozenset(), items_add=frozenset({'尿布'}), confidence=0.8, lift=1.0)]),\n",
       " RelationRecord(items=frozenset({'牛奶'}), support=0.8, ordered_statistics=[OrderedStatistic(items_base=frozenset(), items_add=frozenset({'牛奶'}), confidence=0.8, lift=1.0)]),\n",
       " RelationRecord(items=frozenset({'面包'}), support=0.8, ordered_statistics=[OrderedStatistic(items_base=frozenset(), items_add=frozenset({'面包'}), confidence=0.8, lift=1.0)]),\n",
       " RelationRecord(items=frozenset({'啤酒', '尿布'}), support=0.6, ordered_statistics=[OrderedStatistic(items_base=frozenset({'啤酒'}), items_add=frozenset({'尿布'}), confidence=1.0, lift=1.25), OrderedStatistic(items_base=frozenset({'尿布'}), items_add=frozenset({'啤酒'}), confidence=0.7499999999999999, lift=1.2499999999999998)])]"
      ]
     },
     "execution_count": 2,
     "metadata": {},
     "output_type": "execute_result"
    }
   ],
   "source": [
    "results"
   ]
  }
 ],
 "metadata": {
  "anaconda-cloud": {},
  "kernelspec": {
   "display_name": "Python [conda root]",
   "language": "python",
   "name": "conda-root-py"
  },
  "language_info": {
   "codemirror_mode": {
    "name": "ipython",
    "version": 3
   },
   "file_extension": ".py",
   "mimetype": "text/x-python",
   "name": "python",
   "nbconvert_exporter": "python",
   "pygments_lexer": "ipython3",
   "version": "3.5.2"
  }
 },
 "nbformat": 4,
 "nbformat_minor": 1
}
